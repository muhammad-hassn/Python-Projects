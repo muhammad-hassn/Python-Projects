{
  "cells": [
    {
      "cell_type": "markdown",
      "metadata": {
        "id": "UZXjlass3ARu"
      },
      "source": [
        "\n",
        "# **1. Basic Array Manipulation:**\n"
      ]
    },
    {
      "cell_type": "markdown",
      "metadata": {
        "id": "tDWPQRm23C7o"
      },
      "source": [
        "Create a 1D array with values ranging from 0 to 9.\n"
      ]
    },
    {
      "cell_type": "code",
      "execution_count": 1,
      "metadata": {
        "id": "OvGF66_02Q8H"
      },
      "outputs": [
        {
          "data": {
            "text/plain": [
              "array([[0, 1, 2, 3, 4, 5, 6, 7, 8, 9]])"
            ]
          },
          "execution_count": 1,
          "metadata": {},
          "output_type": "execute_result"
        }
      ],
      "source": [
        "import numpy as np\n",
        "arry1D =  np.array([range(0,10)])\n",
        "print(arry1D)"
      ]
    },
    {
      "cell_type": "markdown",
      "metadata": {
        "id": "UYzIzPyB3Ne3"
      },
      "source": [
        "Reshape the array into a 3x3 matrix.\n",
        "\n",
        "Explore Reshape Function"
      ]
    },
    {
      "cell_type": "code",
      "execution_count": 2,
      "metadata": {
        "id": "RLlzDCBc2Q_P"
      },
      "outputs": [
        {
          "data": {
            "text/plain": [
              "array([[[1, 3, 4],\n",
              "        [1, 2, 3],\n",
              "        [6, 5, 4]]])"
            ]
          },
          "execution_count": 2,
          "metadata": {},
          "output_type": "execute_result"
        }
      ],
      "source": [
        "import numpy as np\n",
        "\n",
        "arry3 = np.array([[[1,3,4],\n",
        "                   [1,2,3],\n",
        "                   [6,5,4]\n",
        "                   ]])\n",
        "arry3"
      ]
    },
    {
      "cell_type": "markdown",
      "metadata": {
        "id": "KmhRK9Ti3Phn"
      },
      "source": [
        "Access the element at the second row, second column.\n"
      ]
    },
    {
      "cell_type": "code",
      "execution_count": 18,
      "metadata": {},
      "outputs": [
        {
          "data": {
            "text/plain": [
              "2"
            ]
          },
          "execution_count": 18,
          "metadata": {},
          "output_type": "execute_result"
        }
      ],
      "source": [
        "arry3[0][1][1]"
      ]
    },
    {
      "cell_type": "markdown",
      "metadata": {
        "id": "NlH7N-fZ36wc"
      },
      "source": [
        "Perform element-wise addition, subtraction, multiplication, and division on two arrays [1, 2, 3] and [4, 5, 6].\n"
      ]
    },
    {
      "cell_type": "code",
      "execution_count": 20,
      "metadata": {
        "id": "PkgNSo1a37kP"
      },
      "outputs": [
        {
          "name": "stdout",
          "output_type": "stream",
          "text": [
            "Addition [5 7 9]\n",
            "substraction [-3 -3 -3]\n",
            "Multiplication [ 4 10 18]\n",
            "Division [0.25 0.4  0.5 ]\n"
          ]
        }
      ],
      "source": [
        "array1 = np.array([1,2,3])\n",
        "array2 = np.array([4,5,6])\n",
        "def operation():\n",
        "    add = array1 + array2\n",
        "    print(f\"Addition {add}\") \n",
        "    sub = array1 - array2\n",
        "    print(f\"substraction {sub}\")\n",
        "    multiply = array1 * array2\n",
        "    print(f\"Multiplication {multiply}\") \n",
        "    division = array1 / array2\n",
        "    print(f\"Division {division}\") \n",
        "\n",
        "operation()"
      ]
    },
    {
      "cell_type": "markdown",
      "metadata": {
        "id": "JVt4zxkk8e0P"
      },
      "source": [
        "Find the sum, mean, and standard deviation of the array [1, 2, 3, 4, 5].\n"
      ]
    },
    {
      "cell_type": "code",
      "execution_count": 22,
      "metadata": {
        "id": "mQZxaZ0c8nhh"
      },
      "outputs": [
        {
          "name": "stdout",
          "output_type": "stream",
          "text": [
            "Sum of arrray 15\n",
            "Mean of arrray 3.0\n",
            "Standard deviation of arrray 1.4142135623730951\n"
          ]
        }
      ],
      "source": [
        "import numpy as np\n",
        "ary = np.array([1,2,3,4,5])\n",
        "\n",
        "sum_ARY = np.sum(ary)\n",
        "\n",
        "mean = np.mean(ary)\n",
        "\n",
        "standerd_ary = np.std(ary)\n",
        "\n",
        "print(\"Sum of arrray\",sum_ARY)\n",
        "print(\"Mean of arrray\",mean)\n",
        "print(\"Standard deviation of arrray\", standerd_ary)\n"
      ]
    },
    {
      "cell_type": "markdown",
      "metadata": {
        "id": "ji2XvW0Z8nn5"
      },
      "source": [
        "Reshape the array [1, 2, 3, 4, 5, 6] into a 2x3 array.\n",
        "\n",
        "Explore Reshape"
      ]
    },
    {
      "cell_type": "code",
      "execution_count": 24,
      "metadata": {
        "id": "FNbYlzyI8rAx"
      },
      "outputs": [
        {
          "name": "stdout",
          "output_type": "stream",
          "text": [
            "[[1 2 3]\n",
            " [4 5 6]]\n"
          ]
        }
      ],
      "source": [
        "array2x3 = [1,2,3,4,5,6]\n",
        "\n",
        "reshape_of_array = np.reshape(array2x3 , (2,3))\n",
        "\n",
        "print(reshape_of_array)"
      ]
    },
    {
      "cell_type": "markdown",
      "metadata": {
        "id": "OE-5o0th3SU4"
      },
      "source": [
        "\n",
        "# **2. Indexing and Slicing:**\n"
      ]
    },
    {
      "cell_type": "markdown",
      "metadata": {
        "id": "yqNKWBOl3an3"
      },
      "source": [
        "Create a 5x5 array with random integers.\n"
      ]
    },
    {
      "cell_type": "code",
      "execution_count": 26,
      "metadata": {
        "id": "G-kX4nme2RBn"
      },
      "outputs": [
        {
          "data": {
            "text/plain": [
              "array([[ 1,  2,  3,  4,  5],\n",
              "       [ 2,  4,  6,  8, 10],\n",
              "       [ 1,  3,  5,  7,  9],\n",
              "       [ 4,  3,  2,  1,  1],\n",
              "       [ 3,  2, 14,  5,  6]])"
            ]
          },
          "execution_count": 26,
          "metadata": {},
          "output_type": "execute_result"
        }
      ],
      "source": [
        "array5x5 = np.array([[1,2,3,4,5],\n",
        "                     [2,4,6,8,10],\n",
        "                     [1,3,5,7,9],\n",
        "                     [4,3,2,1,1],\n",
        "                     [3,2,14,5,6],\n",
        "                     ])\n",
        "array5x5"
      ]
    },
    {
      "cell_type": "markdown",
      "metadata": {
        "id": "LlilKAMF3bMX"
      },
      "source": [
        "Replace all values in the sub-array with a specific value.\n"
      ]
    },
    {
      "cell_type": "code",
      "execution_count": 30,
      "metadata": {
        "id": "gShfqRGm2REI"
      },
      "outputs": [
        {
          "name": "stdout",
          "output_type": "stream",
          "text": [
            "previous array \n",
            " [[ 1  2  3  4  5]\n",
            " [ 2  4  6  8 10]\n",
            " [ 1  3  5  7  9]\n",
            " [ 4  3  2  1  1]\n",
            " [ 3  2 14  5  6]] \n",
            " and Replace Array \n",
            " [[ 1  2  1  4  3]\n",
            " [ 2  4  3  3  2]\n",
            " [ 3  6  5  2 14]\n",
            " [ 4  8  7  1  5]\n",
            " [ 5 10  9  1  6]]\n"
          ]
        }
      ],
      "source": [
        "import numpy as np\n",
        "replace_value = array5x5.T\n",
        "print(f'previous array \\n {array5x5} \\n and Replace Array \\n {replace_value}')"
      ]
    },
    {
      "cell_type": "markdown",
      "metadata": {
        "id": "1kUY7u023gfF"
      },
      "source": [
        "Extract the subarray [[3, 4], [7, 8]] from the array [[1, 2], [3, 4], [5, 6], [7, 8]].\n"
      ]
    },
    {
      "cell_type": "code",
      "execution_count": null,
      "metadata": {
        "id": "UmgqjBwC3_4V"
      },
      "outputs": [],
      "source": [
        "import numpy as np\n",
        "\n",
        "array = np.array([[1, 2], [3, 4], [5, 6], [7, 8]])\n",
        "\n",
        "subarray = array[1:3]\n",
        "\n",
        "print(subarray)"
      ]
    },
    {
      "cell_type": "markdown",
      "metadata": {
        "id": "vPrCHS_O3jK9"
      },
      "source": [
        "\n",
        "# **3. Broadcasting:**"
      ]
    },
    {
      "cell_type": "markdown",
      "metadata": {
        "id": "W3WUM5Cc3phc"
      },
      "source": [
        "Create a 2D array of shape (3, 3) with values from 0 to 2.\n"
      ]
    },
    {
      "cell_type": "code",
      "execution_count": 31,
      "metadata": {
        "id": "PxJrAlFW2RGw"
      },
      "outputs": [
        {
          "data": {
            "text/plain": [
              "array([[0, 1, 2],\n",
              "       [0, 1, 2],\n",
              "       [0, 1, 2]])"
            ]
          },
          "execution_count": 31,
          "metadata": {},
          "output_type": "execute_result"
        }
      ],
      "source": [
        "import numpy as np\n",
        "array2D = np.array([[0,1,2],\n",
        "                    [0,1,2],\n",
        "                    [0,1,2]\n",
        "                    ])\n",
        "array2D"
      ]
    },
    {
      "cell_type": "markdown",
      "metadata": {
        "id": "J5XPwN3A3rXG"
      },
      "source": [
        "Add a 1D array of shape (3,) to each row of the 2D array using broadcasting.\n"
      ]
    },
    {
      "cell_type": "code",
      "execution_count": 32,
      "metadata": {
        "id": "k4FM2g_c2RJv"
      },
      "outputs": [
        {
          "name": "stdout",
          "output_type": "stream",
          "text": [
            "[[1 3 5]\n",
            " [1 3 5]\n",
            " [1 3 5]]\n"
          ]
        }
      ],
      "source": [
        "array1D = [1,2,3]\n",
        "\n",
        "broadcast = array2D + array1D\n",
        "\n",
        "print(broadcast)"
      ]
    },
    {
      "cell_type": "markdown",
      "metadata": {
        "id": "9CbtQS3w4PA3"
      },
      "source": [
        "# **4. Concatenation and Splitting**"
      ]
    },
    {
      "cell_type": "markdown",
      "metadata": {
        "id": "yMg_umVy4ILG"
      },
      "source": [
        "\n",
        "1.   Create two 2D arrays of shape (3, 3) with random integers.\n",
        "2.   Concatenate them horizontally and vertically.\n",
        "3.   Split the concatenated arrays back into the original arrays.\n"
      ]
    },
    {
      "cell_type": "code",
      "execution_count": 39,
      "metadata": {
        "id": "wXiCa2Sn8XHP"
      },
      "outputs": [
        {
          "name": "stdout",
          "output_type": "stream",
          "text": [
            "Array 1:\n",
            "[[1 2 3]\n",
            " [0 7 9]]\n",
            "\n",
            "Array 2:\n",
            "[[0 4 9]\n",
            " [1 6 8]]\n",
            "\n",
            "Concatenated horizontally:\n",
            "[[1 2 3 0 4 9]\n",
            " [0 7 9 1 6 8]]\n",
            "\n",
            "Concatenated vertically:\n",
            "[[1 2 3]\n",
            " [0 7 9]\n",
            " [0 4 9]\n",
            " [1 6 8]]\n"
          ]
        }
      ],
      "source": [
        "import numpy as np\n",
        "\n",
        "array1 = np.array([[1,2,3],\n",
        "                   [0,7,9]\n",
        "                   ])\n",
        "array2 = np.array([[0,4,9],\n",
        "                   [1,6,8]\n",
        "                   ])\n",
        "\n",
        "print(\"Array 1:\")\n",
        "print(array1)\n",
        "print(\"\\nArray 2:\")\n",
        "print(array2)\n",
        "\n",
        "concatenat_horztl = np.concatenate((array1, array2), axis=1)\n",
        "\n",
        "\n",
        "concatenat_vertl = np.concatenate((array1, array2), axis=0)\n",
        "\n",
        "print(\"\\nConcatenated horizontally:\")\n",
        "print(concatenat_horztl)\n",
        "print(\"\\nConcatenated vertically:\")\n",
        "print(concatenat_vertl)\n",
        "\n"
      ]
    },
    {
      "cell_type": "code",
      "execution_count": 40,
      "metadata": {
        "id": "yAiYe6vj8XSW"
      },
      "outputs": [
        {
          "name": "stdout",
          "output_type": "stream",
          "text": [
            "\n",
            "Array 1 after splitting (horizontal):\n",
            "[[1 2 3]\n",
            " [0 7 9]]\n",
            "\n",
            "Array 2 after splitting (horizontal):\n",
            "[[0 4 9]\n",
            " [1 6 8]]\n",
            "\n",
            "Array 1 after splitting (vertical):\n",
            "[[1 2 3]\n",
            " [0 7 9]]\n",
            "\n",
            "Array 2 after splitting (vertical):\n",
            "[[0 4 9]\n",
            " [1 6 8]]\n"
          ]
        }
      ],
      "source": [
        "# Split concatenated array horizontally\n",
        "split_horzontl = np.split(concatenat_horztl, 2, axis=1)\n",
        "array1_h, array2_h = split_horzontl\n",
        "\n",
        "# Split concatenated array vertically\n",
        "split_vertl = np.split(concatenat_vertl, 2, axis=0)\n",
        "array1_v, array2_v = split_vertl\n",
        "\n",
        "print(\"\\nArray 1 after splitting (horizontal):\")\n",
        "print(array1_h)\n",
        "print(\"\\nArray 2 after splitting (horizontal):\")\n",
        "print(array2_h)\n",
        "\n",
        "print(\"\\nArray 1 after splitting (vertical):\")\n",
        "print(array1_v)\n",
        "print(\"\\nArray 2 after splitting (vertical):\")\n",
        "print(array2_v)"
      ]
    },
    {
      "cell_type": "markdown",
      "metadata": {
        "id": "2CliNLH8YG3j"
      },
      "source": [
        "# **Bonus Question**\n",
        "\n",
        "Find mode of this array  = [1,2,1,2,3,4,5,6,8,9,1,2,2,22,21,1,1,1,1,2,5]\n",
        "\n",
        "Hint: Use count and also loop"
      ]
    },
    {
      "cell_type": "code",
      "execution_count": null,
      "metadata": {
        "id": "JGe2Qe3SYaHq"
      },
      "outputs": [],
      "source": []
    },
    {
      "cell_type": "markdown",
      "metadata": {
        "id": "1t9n5GQdYbHN"
      },
      "source": [
        "# **Notes**\n",
        "\n",
        "\n",
        "1.   All the Questions carry Equal Points (2 points)\n",
        "\n",
        "2.   Bonus Question carry 5 points\n",
        "\n",
        "3.   Review lecture for any query\n",
        "\n",
        "Good Luck!\n",
        "\n"
      ]
    },
    {
      "cell_type": "code",
      "execution_count": null,
      "metadata": {
        "id": "yxT9-gJfYugV"
      },
      "outputs": [],
      "source": []
    }
  ],
  "metadata": {
    "colab": {
      "provenance": []
    },
    "kernelspec": {
      "display_name": "Python 3",
      "name": "python3"
    },
    "language_info": {
      "codemirror_mode": {
        "name": "ipython",
        "version": 3
      },
      "file_extension": ".py",
      "mimetype": "text/x-python",
      "name": "python",
      "nbconvert_exporter": "python",
      "pygments_lexer": "ipython3",
      "version": "3.11.7"
    }
  },
  "nbformat": 4,
  "nbformat_minor": 0
}
