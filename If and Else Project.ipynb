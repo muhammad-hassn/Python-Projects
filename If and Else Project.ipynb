{
 "cells": [
  {
   "cell_type": "markdown",
   "id": "cf121412-e2a3-4e5d-b6a3-ae2a4853a617",
   "metadata": {},
   "source": [
    "Question no : 01\n",
    "A company decided to give bonus of 5% to employee if his/her year of service is more than 5 years. Ask user for their salary and year of service and print the net bonus amount."
   ]
  },
  {
   "cell_type": "code",
   "execution_count": 1,
   "id": "24f347b2-63bd-4d66-8217-a7517f1e43f2",
   "metadata": {},
   "outputs": [
    {
     "name": "stdin",
     "output_type": "stream",
     "text": [
      "Enter your salary:  2000000\n",
      "Enter the number of years in service:  4\n"
     ]
    },
    {
     "name": "stdout",
     "output_type": "stream",
     "text": [
      "Sorry, you do not qualify for a bonus.\n"
     ]
    }
   ],
   "source": [
    "salary = float(input(\"Enter your salary: \"))\n",
    "years_of_service = int(input(\"Enter the number of years in service: \"))\n",
    "\n",
    "if years_of_service > 5:\n",
    "    bonus_percentage = 5\n",
    "    net_bonus_amount = (bonus_percentage / 100) * salary\n",
    "    print(f\"Congratulations! You qualify for a {bonus_percentage}% bonus. Your net bonus amount is: {net_bonus_amount}\")\n",
    "else:\n",
    "    print(\"Sorry, you do not qualify for a bonus.\")\n",
    "\n"
   ]
  },
  {
   "cell_type": "markdown",
   "id": "120a85e2-653a-4917-b7cd-3ed4bb9beb47",
   "metadata": {},
   "source": [
    "QUESTION NO :02\n",
    "Write a program to check whether a person is eligible for voting or not. (accept age from user) if age is greater than 17 eligible otherwise noteligible"
   ]
  },
  {
   "cell_type": "code",
   "execution_count": null,
   "id": "d5e85ac7-2a87-448d-812e-1276c15a7b97",
   "metadata": {},
   "outputs": [],
   "source": [
    "age = int(input(\"Enter your age:\") )\n",
    "\n",
    "if age >= 17:\n",
    "    print(f\"YOU ARE ELIGIBLE FOR VOTING. Your age is {age}\")\n",
    "\n",
    "else:\n",
    "    print(\"YOU ARE NOT ELIGIBLE.\")\n"
   ]
  },
  {
   "cell_type": "markdown",
   "id": "d65874bc-ae87-45ab-a16a-89422447b902",
   "metadata": {},
   "source": [
    "QUESTION NO : 03\n",
    "Write a program to check whether a number entered by user is even or odd."
   ]
  },
  {
   "cell_type": "code",
   "execution_count": null,
   "id": "24f2c34c-6bed-4cbc-93d1-41e460711d25",
   "metadata": {},
   "outputs": [],
   "source": [
    "num = int(input(\"Please Enter a Number:\"))\n",
    "\n",
    "if num % 2 == 0:\n",
    "    print(\"EVEN NUMBER\")\n",
    "\n",
    "else:\n",
    "    print(\"ODD NUMBER:\")"
   ]
  },
  {
   "cell_type": "markdown",
   "id": "0b2cf386-fc51-46f1-80d2-838602c8f5d5",
   "metadata": {},
   "source": [
    "QUESTION NO : 04 \n",
    "Write a program to check whether a number is divisible by 7 or not. Show Answer"
   ]
  },
  {
   "cell_type": "code",
   "execution_count": null,
   "id": "0d3f2173-b123-42a6-9abe-45dce1971842",
   "metadata": {},
   "outputs": [],
   "source": [
    "\n",
    "num1 = int(input(\"Please Enter the number which divisible by 7:\"))\n",
    "\n",
    "if num1 % 7 == 0:\n",
    "    print(\"::YES!Its divisible::\")\n",
    "\n",
    "else:\n",
    "    print(\"::Please Enter a correct number::\") \n"
   ]
  },
  {
   "cell_type": "markdown",
   "id": "449ab2c1-33b8-438a-852d-47c2de17215e",
   "metadata": {},
   "source": [
    "QUESTION NO :05\n",
    "Write a program to display \"Hello\" if a number entered by user is a multiple of five , otherwise print \"Bye\"."
   ]
  },
  {
   "cell_type": "code",
   "execution_count": null,
   "id": "3da6c86b-9fcd-494f-a98b-a1aa786ee748",
   "metadata": {},
   "outputs": [],
   "source": [
    "number = int(input(\"Enter the number:\"))\n",
    "\n",
    "if number % 5 == 0:\n",
    "    print(\"Hello\")\n",
    "\n",
    "else:\n",
    "    print(\"Bye\")    "
   ]
  },
  {
   "cell_type": "markdown",
   "id": "d743e264-9abd-4d3e-a3b7-e787a4a5f062",
   "metadata": {},
   "source": [
    "QUESTION NO : 06\n",
    "Write a program to display the last digit of a number."
   ]
  },
  {
   "cell_type": "code",
   "execution_count": null,
   "id": "61fceffc-bb38-4edb-90ab-6598a7e4ad6d",
   "metadata": {},
   "outputs": [],
   "source": [
    "\n",
    "number = int(input(\"Enter a number: \"))\n",
    "\n",
    "if number % 10 == 0:\n",
    "    print(\"The last digit is 0\")\n",
    "        \n",
    "else:\n",
    "    print(f\"The last digit is {number % 10}\")"
   ]
  },
  {
   "cell_type": "markdown",
   "id": "4416e942-6449-4f6e-8495-5e2a828da5d6",
   "metadata": {},
   "source": [
    "QUESTION NO : 07\n",
    "Write a program to check whether the last digit of a number( entered by user ) is divisible by 3 or not.\n"
   ]
  },
  {
   "cell_type": "code",
   "execution_count": null,
   "id": "3bed0e97-0eb6-4958-8a97-411145194225",
   "metadata": {},
   "outputs": [],
   "source": [
    "\n",
    "num2 = int(input(\"Enter the number:\"))\n",
    "\n",
    "last_digit = num2 % 10\n",
    "if last_digit % 3:\n",
    "    print(f\"The last digit {last_digit} is divisible by 3\")\n",
    "else:\n",
    "    print(f\"The last digit {last_digit} is not divisible by 3\") \n",
    "       "
   ]
  },
  {
   "cell_type": "markdown",
   "id": "1cb5e5b1-c016-4ac3-9321-1b5bd569f6d7",
   "metadata": {},
   "source": [
    "QUESTION NO : 08\n",
    "Take values of length and breadth of a rectangle from user and print if it is square or rectangle."
   ]
  },
  {
   "cell_type": "code",
   "execution_count": null,
   "id": "090c7196-c821-4a53-b266-b49c5d8d06ec",
   "metadata": {},
   "outputs": [],
   "source": [
    "length = int(input(\"Enter the number of length:\"))\n",
    "breadth = int(input(\"Enter the number of Breadth:\"))\n",
    "\n",
    "if length == breadth:\n",
    "    print(\"It is a square\")\n",
    "else:\n",
    "    print(\"It is rectangle:\")\n"
   ]
  },
  {
   "cell_type": "markdown",
   "id": "68c13b8b-a049-4754-af9a-975ca9bd1d36",
   "metadata": {},
   "source": [
    "QUESTION NO : 09\n",
    "Take two int values from user and print greatest among them."
   ]
  },
  {
   "cell_type": "code",
   "execution_count": null,
   "id": "9cab0416-bc54-4144-bb8e-6275a2ed4058",
   "metadata": {},
   "outputs": [],
   "source": [
    "num3 = int(input(\"Enter First Number:\"))\n",
    "num4 = int(input(\"Enter second number:\"))\n",
    "\n",
    "if num3 > num4:\n",
    "     print(\"The greatest number is\",num3)\n",
    "       \n",
    "elif num3 < num4:\n",
    "     print(\"The greatest number is\", num4)\n",
    "       \n",
    "else:\n",
    "     print(\"Both numbers are equal\")\n"
   ]
  },
  {
   "cell_type": "markdown",
   "id": "5134cbc1-ebac-49ae-8f5f-d6c55de98a05",
   "metadata": {},
   "source": [
    "QUESTION NO : 10\n",
    " A shop will give discount of 10% if the cost of purchased quantity is more than 1000. Ask user for quantity Suppose, one unit will cost 100.\n",
    "Judge and print total cost for user."
   ]
  },
  {
   "cell_type": "code",
   "execution_count": null,
   "id": "6fe0987b-6996-49c5-87b2-f69b6eabcb5c",
   "metadata": {},
   "outputs": [],
   "source": [
    "quantity = int(input(\"Enter the quantity of items you want to perchase.\"))\n",
    "\n",
    "if quantity > 1000:\n",
    "    discount = 0.01\n",
    "    unit_cost = 100\n",
    "    total = unit_cost * quantity * (1-discount)\n",
    "    print(\"The total cost for the item is \",total)\n",
    "else:\n",
    "    unit_cost = 100\n",
    "    total = unit_cost * quantity\n",
    "    print(\"The total cost for the item is \",total)\n"
   ]
  },
  {
   "cell_type": "raw",
   "id": "7a367d5a-b6d4-4651-8510-2864ea3e4167",
   "metadata": {},
   "source": [
    "QUESTION NO : 11\n",
    "A school has following rules for grading system:\n",
    "a. Below 25 - F\n",
    "b. 25 to 45 - E\n",
    "c. 45 to 50 - D\n",
    "d. 50 to 60 - C\n",
    "e. 60 to 80 - B\n",
    "f. Above 80 - A\n",
    "Ask user to enter marks and print the corresponding grade."
   ]
  },
  {
   "cell_type": "code",
   "execution_count": null,
   "id": "4928d27c-83c3-4807-b109-9c00ed0c3f98",
   "metadata": {},
   "outputs": [],
   "source": [
    "marks = int(input(\"Enter the grade between 1 to 100:\"))\n",
    "\n",
    "if marks <= 100:\n",
    "    if marks < 25:\n",
    "        print(\"YOU ARE FAIL\")\n",
    "    elif  25 <= marks < 45:\n",
    "        print(\"::Your Grade is E::\")\n",
    "        \n",
    "    elif 45 <= marks < 50:\n",
    "        print(\"::Your Grade is D::\")\n",
    "        \n",
    "    elif 50 <= marks < 60:\n",
    "         print(\"::Your grade is C::\")\n",
    "       \n",
    "    elif 60 <= marks < 80:\n",
    "        print(\"::Your Grade is B::\")\n",
    "        \n",
    "    elif 80 <= marks < 101:\n",
    "        print(\"::::::Youor Grade is A:::::::\")\n",
    "                 \n",
    "else:\n",
    "    print(\"Enter the grade between 1 to 100\")\n",
    "        "
   ]
  },
  {
   "cell_type": "markdown",
   "id": "c568c4e5-e23b-4ccb-93b8-1f7e8ed428b4",
   "metadata": {},
   "source": [
    "QUESTION NO : 12\n",
    ")A student will not be allowed to sit in exam if his/her attendence is less than 75%.\n",
    "Take following input from user\n",
    "Number of classes held\n",
    "Number of classes attended.\n",
    "And print\n",
    "percentage of class attended\n",
    "Is student is allowed to sit in exam or not"
   ]
  },
  {
   "cell_type": "code",
   "execution_count": null,
   "id": "4316b94a-8ad8-4801-9890-ddb9369c15b7",
   "metadata": {},
   "outputs": [],
   "source": [
    "num_held = int(input(\"Enter the number of class held:\"))\n",
    "num_attend = int(input(\"Enter the number of class atended:\"))\n",
    "\n",
    "percentage_attend = (num_attend / num_held) * 100\n",
    "\n",
    "\n",
    "if percentage_attend >= 75:\n",
    "    print(\"You are allow to sit in Exam\")\n",
    "else:\n",
    "    print(\"You are not allow to sit in Exam\")\n",
    "\n",
    "print(f\":::YOUR PERCENTAGE OF CLASS ATTENDENCE:::{percentage_attend}\")"
   ]
  },
  {
   "cell_type": "markdown",
   "id": "abfb8b19-382a-449e-aa18-7d41ba6d59dd",
   "metadata": {},
   "source": [
    "QUESTION NO : 13\n",
    "Modify the above question to allow student to sit if he/she has medical cause. Ask user if he/she has medical cause or not ( 'Y' or 'N' ) and\n",
    "print accordingly."
   ]
  },
  {
   "cell_type": "code",
   "execution_count": null,
   "id": "81014ad6-2826-405b-90ea-c618fd397414",
   "metadata": {},
   "outputs": [],
   "source": [
    "\n",
    "num_held = int(input(\"Enter the number of class held:\"))\n",
    "num_attend = int(input(\"Enter the number of class atended:\"))\n",
    "medical = input(\"Do you have medical cause(Y/N):\")\n",
    "\n",
    "percentage_attend = (num_attend / num_held) * 100\n",
    "\n",
    "\n",
    "if medical == 'Y':\n",
    "    print(\"You are allow to sit in Exam\")\n",
    "        \n",
    "else:\n",
    "    print(\"You are not allow to sit in Exam\")\n",
    "    print(f\"Your percentage of class attandecs is {percentage_attend}%\")\n",
    "\n",
    "print(f\"::YOUR PERCENTAGE OF CLASS ATTENDENCE::{percentage_attend} %\")"
   ]
  },
  {
   "cell_type": "markdown",
   "id": "961afa78-f727-4fe8-b07c-799664b5380e",
   "metadata": {},
   "source": [
    "QUESTION NO : 14\n",
    " Write a program to check if a year is leap year or not.\n",
    "If a year is divisible by 4 then it is leap year but if the year is century year like 2000, 1900, 2100 then it must be divisible by 400"
   ]
  },
  {
   "cell_type": "code",
   "execution_count": null,
   "id": "15c27fc7-dd75-4276-ade2-06b63ce4ceba",
   "metadata": {},
   "outputs": [],
   "source": [
    "year = int(input(\"Enter YEAR\"))\n",
    "\n",
    "if year % 4 == 0:\n",
    "    print(\"LEAP YEAR\")\n",
    "else:\n",
    "    print(\"CENTURY YEAR\")\n"
   ]
  },
  {
   "cell_type": "markdown",
   "id": "b8aa8dd3-243d-4af9-a4b9-a766cfc09659",
   "metadata": {},
   "source": [
    "QUESTION NO : 15\n",
    ") Ask user to enter age, gender ( M or F ), marital status ( Y or N ) and then using following rules print their place of service.\n",
    "if employee is female, then she will work only in urban areas.\n",
    "if employee is a male and age is in between 20 to 40 then he may work in anywhere\n",
    "if employee is male and age is in between 40 t0 60 then he will work in urban areas only.\n",
    "And any other input of age should print \"ERROR\"\n"
   ]
  },
  {
   "cell_type": "code",
   "execution_count": null,
   "id": "287adb71-88f1-4e18-b4cd-6692652ef89a",
   "metadata": {},
   "outputs": [],
   "source": [
    "age1 = int(input(\"Enter your age\"))\n",
    "gender = input(\"Enter Gender (M or F)\")\n",
    "marital_status = input(\"Enter Marital status (Y or N)\")\n",
    "\n",
    "if gender == 'F':\n",
    "    print(\"you will work only in urban area\")\n",
    "elif gender == \"M\" and 20 <= age <= 40:\n",
    "    print(\"You may work in anywhere\")\n",
    "    \n",
    "elif gender == \"M\" and 20 <= age <= 40:\n",
    "    print(\"You will work in urban area only\")\n",
    "    \n",
    "else:\n",
    "    print(\"::ERROR::\")    "
   ]
  },
  {
   "cell_type": "markdown",
   "id": "4d1d4ca0-2ec7-41ee-9b61-8feb21958806",
   "metadata": {},
   "source": [
    "QUESTION NO : 16\n",
    "Write a program to calculate the electricity bill (accept number of unit from user) according to the following criteria : Unit Price\n",
    "uptp 100 units no charge Next 200 units Rs 5 per unit After 200 units Rs 10 per unit (For example if input unit is 350 than total bill amount is\n",
    "Rs.3500 (For example if input unit is 97 than total bill amount is Rs.0 (For example if input unit is 150 than total bill amount is Rs.750.\n"
   ]
  },
  {
   "cell_type": "code",
   "execution_count": null,
   "id": "17b9f085-27e1-4d6b-85f8-2d4db28b9f0b",
   "metadata": {},
   "outputs": [],
   "source": [
    "units = int(input(\"Enter number of units: \"))\n",
    "\n",
    "if units <= 100:\n",
    "    bill = 0\n",
    "elif 100 < units <= 300:\n",
    "    bill = 5 * (units - 100)\n",
    "else:\n",
    "    bill = 750 + 10 * (units - 300)\n",
    "\n",
    "print(\"Total bill amount is Rs. \", bill)"
   ]
  },
  {
   "cell_type": "markdown",
   "id": "de2e2b26-2c42-4437-9124-dd7d2b384c33",
   "metadata": {},
   "source": [
    "QUESTION NO : 17\n",
    "Take input of age of 3 people by user and determine oldest and youngest among them"
   ]
  },
  {
   "cell_type": "code",
   "execution_count": null,
   "id": "84b354d9-4023-489c-8797-660826b27391",
   "metadata": {},
   "outputs": [],
   "source": [
    "per1 = int(input(\"Enter first person  age \"))\n",
    "per2 = int(input(\"Enter second person age \"))\n",
    "per3 = int(input(\"Enter third person age \"))\n",
    "\n",
    "if per1 < per2:\n",
    "    print(\"First person is youngest\")\n",
    "    print(\"Second person is oldest\")\n",
    "elif per2 < per3:\n",
    "    print(\"Second person is youngest\")\n",
    "    print(\"Third person is oldest\")\n",
    "elif per3 < per2:\n",
    "    print(\"Third person is youngest\")\n",
    "    print(\"second person is oldest\")\n",
    "elif per3 < per1:\n",
    "    print(\"Third person is youngest\")\n",
    "    print(\"First person is oldest\")\n",
    "else:\n",
    "    print(\"all person have same age\")\n",
    "    "
   ]
  }
 ],
 "metadata": {
  "kernelspec": {
   "display_name": "Python 3 (ipykernel)",
   "language": "python",
   "name": "python3"
  },
  "language_info": {
   "codemirror_mode": {
    "name": "ipython",
    "version": 3
   },
   "file_extension": ".py",
   "mimetype": "text/x-python",
   "name": "python",
   "nbconvert_exporter": "python",
   "pygments_lexer": "ipython3",
   "version": "3.11.7"
  }
 },
 "nbformat": 4,
 "nbformat_minor": 5
}
